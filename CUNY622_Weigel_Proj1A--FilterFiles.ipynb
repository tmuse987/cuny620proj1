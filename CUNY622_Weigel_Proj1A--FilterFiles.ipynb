{
 "cells": [
  {
   "cell_type": "markdown",
   "metadata": {},
   "source": [
    "<B>Please See comments in file Create Graph Structure, which explains details of project.  This file just subsets data to be used by the other notebook file.  Only the filtered files have been uploaded to the repository.  The link to the un-subsetted files, is in the other notebook</B>\n",
    "\n",
    "Read annotations file, which lists users ids, item ids (i.e., songs/tracks), and tag ids\n",
    "and create a csv subset with just the tags we are interested in"
   ]
  },
  {
   "cell_type": "code",
   "execution_count": 1,
   "metadata": {
    "collapsed": false
   },
   "outputs": [],
   "source": [
    "import pandas as pd\n",
    "\n",
    "# 31\talternative\n",
    "# 637\tcountry\n",
    "# 636\tclassic rock\n",
    "# 23935\tchamber music\n",
    "# 23\trap\n",
    "# 360\tclassical\n",
    "\n",
    "tags = [31, 637, 636, 23935, 23, 360]\n",
    "\n",
    "path = \"C:/school/cuny/620/lastfm/\"\n",
    "\n",
    "with open(path  + \"annotations.dat\", \"r\")as f:\n",
    "    dfAnnotations = pd.read_csv(f, delimiter = '\\t', names = ['User','Item', 'Tag'])\n",
    "\n",
    "\n",
    "dfAnnotations = dfAnnotations[dfAnnotations['Tag'].isin(tags)]\n",
    "\n",
    "\n",
    "with open(path + 'annotationsSubset.txt', 'w') as f:\n",
    "    dfAnnotations.to_csv(f, index=False)\n",
    "\n"
   ]
  },
  {
   "cell_type": "markdown",
   "metadata": {},
   "source": [
    "Now read users file, filtering by those in the annotations subset"
   ]
  },
  {
   "cell_type": "code",
   "execution_count": 2,
   "metadata": {
    "collapsed": false
   },
   "outputs": [],
   "source": [
    "with open(path  + \"users.dat\", \"r\") as f:\n",
    "    dfUsers = pd.read_csv(f, names = ['User'])\n",
    "\n",
    "dfUsers = dfUsers[dfUsers['User'].isin(dfAnnotations['User'])]\n",
    "\n",
    "with open(path + 'UsersSubset.txt', 'w') as f:\n",
    "    dfUsers.to_csv(f, index=False)\n",
    "\n"
   ]
  },
  {
   "cell_type": "markdown",
   "metadata": {},
   "source": [
    "Now read and filter groups"
   ]
  },
  {
   "cell_type": "code",
   "execution_count": 3,
   "metadata": {
    "collapsed": false
   },
   "outputs": [],
   "source": [
    "with open(path  + \"groups.dat\", \"r\") as f:\n",
    "    dfGroups = pd.read_csv(f, delimiter = '\\t', names = ['Group', 'User'])\n",
    "\n",
    "dfGroups = dfGroups[dfGroups['User'].isin(dfAnnotations['User'])]\n",
    "\n",
    "with open(path + 'GroupsSubset.txt', 'w') as f:\n",
    "    dfGroups.to_csv(f, index=False)\n"
   ]
  },
  {
   "cell_type": "markdown",
   "metadata": {},
   "source": [
    "Filter friends and neighbors files"
   ]
  },
  {
   "cell_type": "code",
   "execution_count": 6,
   "metadata": {
    "collapsed": false
   },
   "outputs": [],
   "source": [
    "with open(path  + \"friends.dat\", \"r\") as f:\n",
    "    dfFriends = pd.read_csv(f, delimiter = '\\t',  names = ['UserA', 'UserB'])\n",
    "\n",
    "#maybe don't add friends to list, as it becomes to large to easily work with\n",
    "#dfFriends = dfFriends[dfFriends['UserA'].isin(dfAnnotations['User']) | dfFriends['UserB'].isin(dfAnnotations['User'])]\n",
    "dfFriends = dfFriends[dfFriends['UserA'].isin(dfAnnotations['User'])]\n",
    "\n",
    "with open(path + 'FriendsSubset.txt', 'w') as f:\n",
    "    dfFriends.to_csv(f, index=False)\n",
    "\n",
    "with open(path  + \"neighbours.dat\", \"r\") as f:\n",
    "    dfNeighbors = pd.read_csv(f, delimiter = '\\t', names = ['UserA', 'UserB', 'NeighborScore'])\n",
    "\n",
    "#maybe don't add neightbors to list, as it becomes to large to easily work with                      \n",
    "#dfNeighbors = dfNeighbors[dfNeighbors['UserA'].isin(dfAnnotations['User']) | dfNeighbors['UserB'].isin(dfAnnotations['User'])]\n",
    "                      \n",
    "dfNeighbors = dfNeighbors[dfNeighbors['UserA'].isin(dfAnnotations['User'])] \n",
    "\n",
    "with open(path + 'NeighboursSubset.txt', 'w') as f:\n",
    "    dfNeighbors.to_csv(f, index=False)\n",
    "\n",
    "    "
   ]
  },
  {
   "cell_type": "markdown",
   "metadata": {},
   "source": [
    "update annotations, groups and users file with user that are friends and neighbors"
   ]
  },
  {
   "cell_type": "code",
   "execution_count": 8,
   "metadata": {
    "collapsed": false
   },
   "outputs": [],
   "source": [
    "with open(path  + \"users.dat\", \"r\") as f:\n",
    "    dfUsers = pd.read_csv(f, names = ['User'])\n",
    "\n",
    "dfUsers = dfUsers[dfUsers['User'].isin(dfFriends['UserA'])  #dfUsers['User'].isin(dfFriends['UserB'])\n",
    "                 |dfUsers['User'].isin(dfNeighbors['UserA'])]# | dfUsers['User'].isin(dfNeighbors['UserB'])]\n",
    "\n",
    "with open(path + 'UsersSubsetWFriends.txt', 'w') as f:\n",
    "    dfUsers.to_csv(f, index=False)\n",
    "\n",
    "\n",
    "with open(path  + \"annotations.dat\", \"r\")as f:\n",
    "     dfAnnotations = pd.read_csv(f, delimiter = '\\t', names = ['User','Item', 'Tag'])\n",
    "    \n",
    "dfAnnotations = dfAnnotations[dfAnnotations['User'].isin(dfUsers['User'])]\n",
    "\n",
    "with open(path + 'annotationsSubsetWFriends.txt', 'w') as f:\n",
    "     dfAnnotations.to_csv(f, index=False)\n",
    "\n",
    "with open(path  + \"groups.dat\", \"r\") as f:\n",
    "    dfGroups = pd.read_csv(f, delimiter = '\\t', names = ['Group', 'User'])\n",
    "\n",
    "dfGroups = dfGroups[dfGroups['User'].isin(dfUsers['User'])]\n",
    "\n",
    "with open(path + 'GroupsSubsetWFriends.txt', 'w') as f:\n",
    "    dfGroups.to_csv(f, index=False)"
   ]
  },
  {
   "cell_type": "code",
   "execution_count": 10,
   "metadata": {
    "collapsed": false
   },
   "outputs": [],
   "source": [
    "with open(path + 'items.dat', 'r') as f:\n",
    "    dfItems = pd.read_csv(f, delimiter = '\\t', names = ['Id', 'Item'], dtype={'Item': object})\n",
    "    \n",
    "dfItems = dfItems[dfItems['Id'].isin(dfAnnotations['Item'])]    \n",
    "\n",
    "with open(path + 'ItemsSubset.txt', 'w') as f:\n",
    "    dfItems.to_csv(f, index=False)"
   ]
  }
 ],
 "metadata": {
  "kernelspec": {
   "display_name": "Python 2",
   "language": "python",
   "name": "python2"
  },
  "language_info": {
   "codemirror_mode": {
    "name": "ipython",
    "version": 2
   },
   "file_extension": ".py",
   "mimetype": "text/x-python",
   "name": "python",
   "nbconvert_exporter": "python",
   "pygments_lexer": "ipython2",
   "version": "2.7.13"
  }
 },
 "nbformat": 4,
 "nbformat_minor": 2
}
